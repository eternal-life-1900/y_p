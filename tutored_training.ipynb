{
 "cells": [
  {
   "cell_type": "markdown",
   "id": "06fff81e",
   "metadata": {},
   "source": [
    "# Отток клиентов"
   ]
  },
  {
   "cell_type": "markdown",
   "id": "ef76f1a2",
   "metadata": {},
   "source": [
    "# Содержание\n",
    "\n",
    "[Описание проекта](#0)\n",
    "\n",
    "[Описание данных](#1)\n",
    "\n",
    "[Шаг 1. Подготовка данных](#2)\n",
    "\n",
    "[Шаг 2. Исследование задачи](#3)\n",
    "\n",
    "[Шаг 3. Борьба с дисбалансом](#4)\n",
    "\n",
    "[Шаг 4. Тестирование модели](#5)\n",
    "\n",
    "[Общий вывод](#6)\n",
    "\n",
    "[Чек-лист готовности проекта](#7)"
   ]
  },
  {
   "cell_type": "markdown",
   "id": "5fa1e120",
   "metadata": {},
   "source": [
    "# Описание проекта <a id='0'></a>\n",
    "\n",
    "Из «Бета-Банка» стали уходить клиенты. Каждый месяц. Немного, но заметно. Банковские маркетологи посчитали: сохранять текущих клиентов дешевле, чем привлекать новых.\n",
    "\n",
    "Нужно спрогнозировать, уйдёт клиент из банка в ближайшее время или нет. Вам предоставлены исторические данные о поведении клиентов и расторжении договоров с банком. \n",
    "\n",
    "Постройте модель с предельно большим значением *F1*-меры. Чтобы сдать проект успешно, нужно довести метрику до 0.59. Проверьте *F1*-меру на тестовой выборке самостоятельно.\n",
    "\n",
    "Дополнительно измеряйте *AUC-ROC*, сравнивайте её значение с *F1*-мерой.\n",
    "\n",
    "Источник данных: [https://www.kaggle.com/barelydedicated/bank-customer-churn-modeling](https://www.kaggle.com/barelydedicated/bank-customer-churn-modeling)"
   ]
  },
  {
   "cell_type": "markdown",
   "id": "a25ed055",
   "metadata": {},
   "source": [
    "# Описание данных <a id='1'></a>\n",
    "\n",
    "Данные находятся в файле `/datasets/Churn.csv` (англ. «отток клиентов»). [Скачать датасет](https://code.s3.yandex.net/datasets/Churn.csv)\n",
    "\n",
    "Признаки\n",
    "\n",
    "* RowNumber — индекс строки в данных\n",
    "\n",
    "* CustomerId — уникальный идентификатор клиента\n",
    "\n",
    "* Surname — фамилия\n",
    "\n",
    "* CreditScore — кредитный рейтинг\n",
    "\n",
    "* Geography — страна проживания\n",
    "\n",
    "* Gender — пол\n",
    "\n",
    "* Age — возраст\n",
    "\n",
    "* Tenure — сколько лет человек является клиентом банка\n",
    "\n",
    "* Balance — баланс на счёте\n",
    "\n",
    "* NumOfProducts — количество продуктов банка, используемых клиентом\n",
    "\n",
    "* HasCrCard — наличие кредитной карты\n",
    "\n",
    "* IsActiveMember — активность клиента\n",
    "\n",
    "* EstimatedSalary — предполагаемая зарплата\n",
    "\n",
    "Целевой признак\n",
    "\n",
    "* Exited — факт ухода клиента"
   ]
  },
  {
   "cell_type": "markdown",
   "id": "611a3597",
   "metadata": {},
   "source": [
    "# Шаг 1. Подготовка данных <a id='2'></a>\n",
    "\n",
    "**Загрузите и подготовьте данные. Поясните порядок действий.**"
   ]
  },
  {
   "cell_type": "markdown",
   "id": "3af928f5",
   "metadata": {},
   "source": [
    "Импортируем необходимые библиотеки"
   ]
  },
  {
   "cell_type": "code",
   "execution_count": 1,
   "id": "0f325776",
   "metadata": {},
   "outputs": [],
   "source": [
    "import pandas as pd\n",
    "\n",
    "from sklearn.tree import DecisionTreeClassifier\n",
    "from sklearn.ensemble import RandomForestClassifier\n",
    "from sklearn.linear_model import LogisticRegression\n",
    "\n",
    "from sklearn.preprocessing import LabelEncoder\n",
    "from sklearn.model_selection import train_test_split \n",
    "from sklearn.metrics import accuracy_score \n",
    "from sklearn.metrics import confusion_matrix\n",
    "from sklearn.preprocessing import OrdinalEncoder\n",
    "from sklearn.preprocessing import MinMaxScaler\n",
    "from sklearn.metrics import recall_score \n",
    "from sklearn.metrics import precision_score\n",
    "from sklearn.metrics import f1_score \n",
    "from sklearn.utils import shuffle\n",
    "import numpy as np\n",
    "from sklearn.metrics import roc_auc_score \n",
    "from sklearn.preprocessing import StandardScaler"
   ]
  },
  {
   "cell_type": "markdown",
   "id": "2f1102e6",
   "metadata": {},
   "source": [
    "Загружаем данные и выводим пример строк датасета"
   ]
  },
  {
   "cell_type": "code",
   "execution_count": 2,
   "id": "7ce1d5e9",
   "metadata": {},
   "outputs": [
    {
     "data": {
      "text/html": [
       "<div>\n",
       "<style scoped>\n",
       "    .dataframe tbody tr th:only-of-type {\n",
       "        vertical-align: middle;\n",
       "    }\n",
       "\n",
       "    .dataframe tbody tr th {\n",
       "        vertical-align: top;\n",
       "    }\n",
       "\n",
       "    .dataframe thead th {\n",
       "        text-align: right;\n",
       "    }\n",
       "</style>\n",
       "<table border=\"1\" class=\"dataframe\">\n",
       "  <thead>\n",
       "    <tr style=\"text-align: right;\">\n",
       "      <th></th>\n",
       "      <th>RowNumber</th>\n",
       "      <th>CustomerId</th>\n",
       "      <th>Surname</th>\n",
       "      <th>CreditScore</th>\n",
       "      <th>Geography</th>\n",
       "      <th>Gender</th>\n",
       "      <th>Age</th>\n",
       "      <th>Tenure</th>\n",
       "      <th>Balance</th>\n",
       "      <th>NumOfProducts</th>\n",
       "      <th>HasCrCard</th>\n",
       "      <th>IsActiveMember</th>\n",
       "      <th>EstimatedSalary</th>\n",
       "      <th>Exited</th>\n",
       "    </tr>\n",
       "  </thead>\n",
       "  <tbody>\n",
       "    <tr>\n",
       "      <th>1436</th>\n",
       "      <td>1437</td>\n",
       "      <td>15646615</td>\n",
       "      <td>Muir</td>\n",
       "      <td>576</td>\n",
       "      <td>Germany</td>\n",
       "      <td>Male</td>\n",
       "      <td>28</td>\n",
       "      <td>1.0</td>\n",
       "      <td>119336.29</td>\n",
       "      <td>2</td>\n",
       "      <td>0</td>\n",
       "      <td>1</td>\n",
       "      <td>58976.85</td>\n",
       "      <td>0</td>\n",
       "    </tr>\n",
       "    <tr>\n",
       "      <th>4378</th>\n",
       "      <td>4379</td>\n",
       "      <td>15771087</td>\n",
       "      <td>Harrison</td>\n",
       "      <td>757</td>\n",
       "      <td>France</td>\n",
       "      <td>Female</td>\n",
       "      <td>71</td>\n",
       "      <td>0.0</td>\n",
       "      <td>88084.13</td>\n",
       "      <td>2</td>\n",
       "      <td>1</td>\n",
       "      <td>1</td>\n",
       "      <td>154337.47</td>\n",
       "      <td>0</td>\n",
       "    </tr>\n",
       "    <tr>\n",
       "      <th>5185</th>\n",
       "      <td>5186</td>\n",
       "      <td>15801169</td>\n",
       "      <td>Yegorova</td>\n",
       "      <td>764</td>\n",
       "      <td>Germany</td>\n",
       "      <td>Female</td>\n",
       "      <td>39</td>\n",
       "      <td>NaN</td>\n",
       "      <td>138341.51</td>\n",
       "      <td>1</td>\n",
       "      <td>1</td>\n",
       "      <td>0</td>\n",
       "      <td>50072.94</td>\n",
       "      <td>1</td>\n",
       "    </tr>\n",
       "    <tr>\n",
       "      <th>7384</th>\n",
       "      <td>7385</td>\n",
       "      <td>15589881</td>\n",
       "      <td>Rowe</td>\n",
       "      <td>634</td>\n",
       "      <td>France</td>\n",
       "      <td>Female</td>\n",
       "      <td>41</td>\n",
       "      <td>7.0</td>\n",
       "      <td>0.00</td>\n",
       "      <td>2</td>\n",
       "      <td>1</td>\n",
       "      <td>1</td>\n",
       "      <td>131284.93</td>\n",
       "      <td>0</td>\n",
       "    </tr>\n",
       "    <tr>\n",
       "      <th>5547</th>\n",
       "      <td>5548</td>\n",
       "      <td>15713845</td>\n",
       "      <td>Merrett</td>\n",
       "      <td>688</td>\n",
       "      <td>France</td>\n",
       "      <td>Male</td>\n",
       "      <td>38</td>\n",
       "      <td>7.0</td>\n",
       "      <td>148045.68</td>\n",
       "      <td>1</td>\n",
       "      <td>1</td>\n",
       "      <td>0</td>\n",
       "      <td>175479.92</td>\n",
       "      <td>1</td>\n",
       "    </tr>\n",
       "  </tbody>\n",
       "</table>\n",
       "</div>"
      ],
      "text/plain": [
       "      RowNumber  CustomerId   Surname  CreditScore Geography  Gender  Age  \\\n",
       "1436       1437    15646615      Muir          576   Germany    Male   28   \n",
       "4378       4379    15771087  Harrison          757    France  Female   71   \n",
       "5185       5186    15801169  Yegorova          764   Germany  Female   39   \n",
       "7384       7385    15589881      Rowe          634    France  Female   41   \n",
       "5547       5548    15713845   Merrett          688    France    Male   38   \n",
       "\n",
       "      Tenure    Balance  NumOfProducts  HasCrCard  IsActiveMember  \\\n",
       "1436     1.0  119336.29              2          0               1   \n",
       "4378     0.0   88084.13              2          1               1   \n",
       "5185     NaN  138341.51              1          1               0   \n",
       "7384     7.0       0.00              2          1               1   \n",
       "5547     7.0  148045.68              1          1               0   \n",
       "\n",
       "      EstimatedSalary  Exited  \n",
       "1436         58976.85       0  \n",
       "4378        154337.47       0  \n",
       "5185         50072.94       1  \n",
       "7384        131284.93       0  \n",
       "5547        175479.92       1  "
      ]
     },
     "execution_count": 2,
     "metadata": {},
     "output_type": "execute_result"
    }
   ],
   "source": [
    "df = pd.read_csv('/datasets/Churn.csv')\n",
    "df.sample(5)"
   ]
  },
  {
   "cell_type": "markdown",
   "id": "7d6a9cd0",
   "metadata": {},
   "source": [
    "Выводим информацию по датасету"
   ]
  },
  {
   "cell_type": "code",
   "execution_count": 3,
   "id": "881c19cf",
   "metadata": {},
   "outputs": [
    {
     "name": "stdout",
     "output_type": "stream",
     "text": [
      "<class 'pandas.core.frame.DataFrame'>\n",
      "RangeIndex: 10000 entries, 0 to 9999\n",
      "Data columns (total 14 columns):\n",
      " #   Column           Non-Null Count  Dtype  \n",
      "---  ------           --------------  -----  \n",
      " 0   RowNumber        10000 non-null  int64  \n",
      " 1   CustomerId       10000 non-null  int64  \n",
      " 2   Surname          10000 non-null  object \n",
      " 3   CreditScore      10000 non-null  int64  \n",
      " 4   Geography        10000 non-null  object \n",
      " 5   Gender           10000 non-null  object \n",
      " 6   Age              10000 non-null  int64  \n",
      " 7   Tenure           9091 non-null   float64\n",
      " 8   Balance          10000 non-null  float64\n",
      " 9   NumOfProducts    10000 non-null  int64  \n",
      " 10  HasCrCard        10000 non-null  int64  \n",
      " 11  IsActiveMember   10000 non-null  int64  \n",
      " 12  EstimatedSalary  10000 non-null  float64\n",
      " 13  Exited           10000 non-null  int64  \n",
      "dtypes: float64(3), int64(8), object(3)\n",
      "memory usage: 1.1+ MB\n"
     ]
    }
   ],
   "source": [
    "df.info()"
   ]
  },
  {
   "cell_type": "markdown",
   "id": "afeea652",
   "metadata": {},
   "source": [
    "Удаляем колонки которые нам не понадобятся для дальнейшей работы"
   ]
  },
  {
   "cell_type": "code",
   "execution_count": 4,
   "id": "3a454125",
   "metadata": {},
   "outputs": [
    {
     "data": {
      "text/html": [
       "<div>\n",
       "<style scoped>\n",
       "    .dataframe tbody tr th:only-of-type {\n",
       "        vertical-align: middle;\n",
       "    }\n",
       "\n",
       "    .dataframe tbody tr th {\n",
       "        vertical-align: top;\n",
       "    }\n",
       "\n",
       "    .dataframe thead th {\n",
       "        text-align: right;\n",
       "    }\n",
       "</style>\n",
       "<table border=\"1\" class=\"dataframe\">\n",
       "  <thead>\n",
       "    <tr style=\"text-align: right;\">\n",
       "      <th></th>\n",
       "      <th>CreditScore</th>\n",
       "      <th>Geography</th>\n",
       "      <th>Gender</th>\n",
       "      <th>Age</th>\n",
       "      <th>Tenure</th>\n",
       "      <th>Balance</th>\n",
       "      <th>NumOfProducts</th>\n",
       "      <th>HasCrCard</th>\n",
       "      <th>IsActiveMember</th>\n",
       "      <th>EstimatedSalary</th>\n",
       "      <th>Exited</th>\n",
       "    </tr>\n",
       "  </thead>\n",
       "  <tbody>\n",
       "    <tr>\n",
       "      <th>9205</th>\n",
       "      <td>564</td>\n",
       "      <td>France</td>\n",
       "      <td>Male</td>\n",
       "      <td>31</td>\n",
       "      <td>0.0</td>\n",
       "      <td>110527.17</td>\n",
       "      <td>1</td>\n",
       "      <td>1</td>\n",
       "      <td>1</td>\n",
       "      <td>87060.77</td>\n",
       "      <td>0</td>\n",
       "    </tr>\n",
       "    <tr>\n",
       "      <th>3538</th>\n",
       "      <td>554</td>\n",
       "      <td>Germany</td>\n",
       "      <td>Female</td>\n",
       "      <td>43</td>\n",
       "      <td>2.0</td>\n",
       "      <td>120847.11</td>\n",
       "      <td>1</td>\n",
       "      <td>1</td>\n",
       "      <td>0</td>\n",
       "      <td>7611.61</td>\n",
       "      <td>1</td>\n",
       "    </tr>\n",
       "    <tr>\n",
       "      <th>7260</th>\n",
       "      <td>773</td>\n",
       "      <td>France</td>\n",
       "      <td>Female</td>\n",
       "      <td>41</td>\n",
       "      <td>7.0</td>\n",
       "      <td>190238.93</td>\n",
       "      <td>1</td>\n",
       "      <td>1</td>\n",
       "      <td>1</td>\n",
       "      <td>57549.65</td>\n",
       "      <td>0</td>\n",
       "    </tr>\n",
       "    <tr>\n",
       "      <th>5996</th>\n",
       "      <td>638</td>\n",
       "      <td>Germany</td>\n",
       "      <td>Male</td>\n",
       "      <td>62</td>\n",
       "      <td>4.0</td>\n",
       "      <td>108716.59</td>\n",
       "      <td>2</td>\n",
       "      <td>1</td>\n",
       "      <td>1</td>\n",
       "      <td>74241.09</td>\n",
       "      <td>0</td>\n",
       "    </tr>\n",
       "    <tr>\n",
       "      <th>6637</th>\n",
       "      <td>850</td>\n",
       "      <td>France</td>\n",
       "      <td>Male</td>\n",
       "      <td>36</td>\n",
       "      <td>3.0</td>\n",
       "      <td>0.00</td>\n",
       "      <td>2</td>\n",
       "      <td>1</td>\n",
       "      <td>0</td>\n",
       "      <td>195033.07</td>\n",
       "      <td>0</td>\n",
       "    </tr>\n",
       "  </tbody>\n",
       "</table>\n",
       "</div>"
      ],
      "text/plain": [
       "      CreditScore Geography  Gender  Age  Tenure    Balance  NumOfProducts  \\\n",
       "9205          564    France    Male   31     0.0  110527.17              1   \n",
       "3538          554   Germany  Female   43     2.0  120847.11              1   \n",
       "7260          773    France  Female   41     7.0  190238.93              1   \n",
       "5996          638   Germany    Male   62     4.0  108716.59              2   \n",
       "6637          850    France    Male   36     3.0       0.00              2   \n",
       "\n",
       "      HasCrCard  IsActiveMember  EstimatedSalary  Exited  \n",
       "9205          1               1         87060.77       0  \n",
       "3538          1               0          7611.61       1  \n",
       "7260          1               1         57549.65       0  \n",
       "5996          1               1         74241.09       0  \n",
       "6637          1               0        195033.07       0  "
      ]
     },
     "execution_count": 4,
     "metadata": {},
     "output_type": "execute_result"
    }
   ],
   "source": [
    "df.drop(['RowNumber','CustomerId','Surname'],axis='columns',inplace=True)\n",
    "df.sample(5)"
   ]
  },
  {
   "cell_type": "markdown",
   "id": "ef525d8e",
   "metadata": {},
   "source": [
    "Кодируем данные по колонке 'Gender'"
   ]
  },
  {
   "cell_type": "code",
   "execution_count": 5,
   "id": "24011ea1",
   "metadata": {
    "scrolled": true
   },
   "outputs": [
    {
     "data": {
      "text/html": [
       "<div>\n",
       "<style scoped>\n",
       "    .dataframe tbody tr th:only-of-type {\n",
       "        vertical-align: middle;\n",
       "    }\n",
       "\n",
       "    .dataframe tbody tr th {\n",
       "        vertical-align: top;\n",
       "    }\n",
       "\n",
       "    .dataframe thead th {\n",
       "        text-align: right;\n",
       "    }\n",
       "</style>\n",
       "<table border=\"1\" class=\"dataframe\">\n",
       "  <thead>\n",
       "    <tr style=\"text-align: right;\">\n",
       "      <th></th>\n",
       "      <th>CreditScore</th>\n",
       "      <th>Geography</th>\n",
       "      <th>Gender</th>\n",
       "      <th>Age</th>\n",
       "      <th>Tenure</th>\n",
       "      <th>Balance</th>\n",
       "      <th>NumOfProducts</th>\n",
       "      <th>HasCrCard</th>\n",
       "      <th>IsActiveMember</th>\n",
       "      <th>EstimatedSalary</th>\n",
       "      <th>Exited</th>\n",
       "    </tr>\n",
       "  </thead>\n",
       "  <tbody>\n",
       "    <tr>\n",
       "      <th>614</th>\n",
       "      <td>688</td>\n",
       "      <td>Germany</td>\n",
       "      <td>0</td>\n",
       "      <td>26</td>\n",
       "      <td>8.0</td>\n",
       "      <td>146133.39</td>\n",
       "      <td>1</td>\n",
       "      <td>1</td>\n",
       "      <td>1</td>\n",
       "      <td>175296.76</td>\n",
       "      <td>0</td>\n",
       "    </tr>\n",
       "    <tr>\n",
       "      <th>2661</th>\n",
       "      <td>742</td>\n",
       "      <td>France</td>\n",
       "      <td>1</td>\n",
       "      <td>28</td>\n",
       "      <td>2.0</td>\n",
       "      <td>191864.51</td>\n",
       "      <td>1</td>\n",
       "      <td>1</td>\n",
       "      <td>0</td>\n",
       "      <td>108457.99</td>\n",
       "      <td>1</td>\n",
       "    </tr>\n",
       "    <tr>\n",
       "      <th>6623</th>\n",
       "      <td>581</td>\n",
       "      <td>France</td>\n",
       "      <td>0</td>\n",
       "      <td>28</td>\n",
       "      <td>3.0</td>\n",
       "      <td>104367.50</td>\n",
       "      <td>1</td>\n",
       "      <td>1</td>\n",
       "      <td>1</td>\n",
       "      <td>29937.75</td>\n",
       "      <td>0</td>\n",
       "    </tr>\n",
       "    <tr>\n",
       "      <th>5358</th>\n",
       "      <td>658</td>\n",
       "      <td>France</td>\n",
       "      <td>0</td>\n",
       "      <td>39</td>\n",
       "      <td>7.0</td>\n",
       "      <td>0.00</td>\n",
       "      <td>2</td>\n",
       "      <td>1</td>\n",
       "      <td>0</td>\n",
       "      <td>48378.40</td>\n",
       "      <td>0</td>\n",
       "    </tr>\n",
       "    <tr>\n",
       "      <th>7484</th>\n",
       "      <td>772</td>\n",
       "      <td>France</td>\n",
       "      <td>1</td>\n",
       "      <td>35</td>\n",
       "      <td>9.0</td>\n",
       "      <td>0.00</td>\n",
       "      <td>1</td>\n",
       "      <td>0</td>\n",
       "      <td>1</td>\n",
       "      <td>25448.31</td>\n",
       "      <td>0</td>\n",
       "    </tr>\n",
       "  </tbody>\n",
       "</table>\n",
       "</div>"
      ],
      "text/plain": [
       "      CreditScore Geography  Gender  Age  Tenure    Balance  NumOfProducts  \\\n",
       "614           688   Germany       0   26     8.0  146133.39              1   \n",
       "2661          742    France       1   28     2.0  191864.51              1   \n",
       "6623          581    France       0   28     3.0  104367.50              1   \n",
       "5358          658    France       0   39     7.0       0.00              2   \n",
       "7484          772    France       1   35     9.0       0.00              1   \n",
       "\n",
       "      HasCrCard  IsActiveMember  EstimatedSalary  Exited  \n",
       "614           1               1        175296.76       0  \n",
       "2661          1               0        108457.99       1  \n",
       "6623          1               1         29937.75       0  \n",
       "5358          1               0         48378.40       0  \n",
       "7484          0               1         25448.31       0  "
      ]
     },
     "execution_count": 5,
     "metadata": {},
     "output_type": "execute_result"
    }
   ],
   "source": [
    "df['Gender'].replace({'Female':1,'Male':0},inplace=True)\n",
    "df.sample(5)"
   ]
  },
  {
   "cell_type": "markdown",
   "id": "3e00d37e",
   "metadata": {},
   "source": [
    "Кодируем данные по колонке 'Geography'"
   ]
  },
  {
   "cell_type": "code",
   "execution_count": 6,
   "id": "b8cce636",
   "metadata": {
    "scrolled": true
   },
   "outputs": [
    {
     "data": {
      "text/html": [
       "<div>\n",
       "<style scoped>\n",
       "    .dataframe tbody tr th:only-of-type {\n",
       "        vertical-align: middle;\n",
       "    }\n",
       "\n",
       "    .dataframe tbody tr th {\n",
       "        vertical-align: top;\n",
       "    }\n",
       "\n",
       "    .dataframe thead th {\n",
       "        text-align: right;\n",
       "    }\n",
       "</style>\n",
       "<table border=\"1\" class=\"dataframe\">\n",
       "  <thead>\n",
       "    <tr style=\"text-align: right;\">\n",
       "      <th></th>\n",
       "      <th>CreditScore</th>\n",
       "      <th>Gender</th>\n",
       "      <th>Age</th>\n",
       "      <th>Tenure</th>\n",
       "      <th>Balance</th>\n",
       "      <th>NumOfProducts</th>\n",
       "      <th>HasCrCard</th>\n",
       "      <th>IsActiveMember</th>\n",
       "      <th>EstimatedSalary</th>\n",
       "      <th>Exited</th>\n",
       "      <th>Geography_France</th>\n",
       "      <th>Geography_Germany</th>\n",
       "      <th>Geography_Spain</th>\n",
       "    </tr>\n",
       "  </thead>\n",
       "  <tbody>\n",
       "    <tr>\n",
       "      <th>6793</th>\n",
       "      <td>623</td>\n",
       "      <td>0</td>\n",
       "      <td>50</td>\n",
       "      <td>7.0</td>\n",
       "      <td>126608.37</td>\n",
       "      <td>1</td>\n",
       "      <td>0</td>\n",
       "      <td>1</td>\n",
       "      <td>645.61</td>\n",
       "      <td>1</td>\n",
       "      <td>0</td>\n",
       "      <td>1</td>\n",
       "      <td>0</td>\n",
       "    </tr>\n",
       "    <tr>\n",
       "      <th>3584</th>\n",
       "      <td>506</td>\n",
       "      <td>0</td>\n",
       "      <td>28</td>\n",
       "      <td>8.0</td>\n",
       "      <td>53053.76</td>\n",
       "      <td>1</td>\n",
       "      <td>0</td>\n",
       "      <td>1</td>\n",
       "      <td>24577.34</td>\n",
       "      <td>0</td>\n",
       "      <td>0</td>\n",
       "      <td>1</td>\n",
       "      <td>0</td>\n",
       "    </tr>\n",
       "    <tr>\n",
       "      <th>2236</th>\n",
       "      <td>632</td>\n",
       "      <td>0</td>\n",
       "      <td>41</td>\n",
       "      <td>3.0</td>\n",
       "      <td>126550.70</td>\n",
       "      <td>1</td>\n",
       "      <td>0</td>\n",
       "      <td>0</td>\n",
       "      <td>177644.52</td>\n",
       "      <td>1</td>\n",
       "      <td>0</td>\n",
       "      <td>1</td>\n",
       "      <td>0</td>\n",
       "    </tr>\n",
       "    <tr>\n",
       "      <th>8473</th>\n",
       "      <td>770</td>\n",
       "      <td>1</td>\n",
       "      <td>33</td>\n",
       "      <td>6.0</td>\n",
       "      <td>0.00</td>\n",
       "      <td>2</td>\n",
       "      <td>1</td>\n",
       "      <td>1</td>\n",
       "      <td>126131.90</td>\n",
       "      <td>0</td>\n",
       "      <td>1</td>\n",
       "      <td>0</td>\n",
       "      <td>0</td>\n",
       "    </tr>\n",
       "    <tr>\n",
       "      <th>6423</th>\n",
       "      <td>652</td>\n",
       "      <td>0</td>\n",
       "      <td>41</td>\n",
       "      <td>8.0</td>\n",
       "      <td>115144.68</td>\n",
       "      <td>1</td>\n",
       "      <td>1</td>\n",
       "      <td>0</td>\n",
       "      <td>188905.43</td>\n",
       "      <td>0</td>\n",
       "      <td>0</td>\n",
       "      <td>0</td>\n",
       "      <td>1</td>\n",
       "    </tr>\n",
       "  </tbody>\n",
       "</table>\n",
       "</div>"
      ],
      "text/plain": [
       "      CreditScore  Gender  Age  Tenure    Balance  NumOfProducts  HasCrCard  \\\n",
       "6793          623       0   50     7.0  126608.37              1          0   \n",
       "3584          506       0   28     8.0   53053.76              1          0   \n",
       "2236          632       0   41     3.0  126550.70              1          0   \n",
       "8473          770       1   33     6.0       0.00              2          1   \n",
       "6423          652       0   41     8.0  115144.68              1          1   \n",
       "\n",
       "      IsActiveMember  EstimatedSalary  Exited  Geography_France  \\\n",
       "6793               1           645.61       1                 0   \n",
       "3584               1         24577.34       0                 0   \n",
       "2236               0        177644.52       1                 0   \n",
       "8473               1        126131.90       0                 1   \n",
       "6423               0        188905.43       0                 0   \n",
       "\n",
       "      Geography_Germany  Geography_Spain  \n",
       "6793                  1                0  \n",
       "3584                  1                0  \n",
       "2236                  1                0  \n",
       "8473                  0                0  \n",
       "6423                  0                1  "
      ]
     },
     "execution_count": 6,
     "metadata": {},
     "output_type": "execute_result"
    }
   ],
   "source": [
    "df_numeric=pd.get_dummies(df,columns=['Geography'])\n",
    "df_numeric.sample(5)"
   ]
  },
  {
   "cell_type": "markdown",
   "id": "ec41b684",
   "metadata": {},
   "source": [
    "Чтобы устранить дамми ловушку проводим обработку данных"
   ]
  },
  {
   "cell_type": "code",
   "execution_count": 7,
   "id": "b67ebcd4",
   "metadata": {},
   "outputs": [
    {
     "data": {
      "text/html": [
       "<div>\n",
       "<style scoped>\n",
       "    .dataframe tbody tr th:only-of-type {\n",
       "        vertical-align: middle;\n",
       "    }\n",
       "\n",
       "    .dataframe tbody tr th {\n",
       "        vertical-align: top;\n",
       "    }\n",
       "\n",
       "    .dataframe thead th {\n",
       "        text-align: right;\n",
       "    }\n",
       "</style>\n",
       "<table border=\"1\" class=\"dataframe\">\n",
       "  <thead>\n",
       "    <tr style=\"text-align: right;\">\n",
       "      <th></th>\n",
       "      <th>CreditScore</th>\n",
       "      <th>Gender</th>\n",
       "      <th>Age</th>\n",
       "      <th>Tenure</th>\n",
       "      <th>Balance</th>\n",
       "      <th>NumOfProducts</th>\n",
       "      <th>HasCrCard</th>\n",
       "      <th>IsActiveMember</th>\n",
       "      <th>EstimatedSalary</th>\n",
       "      <th>Exited</th>\n",
       "      <th>Geography_France</th>\n",
       "      <th>Geography_Germany</th>\n",
       "      <th>Geography_Spain</th>\n",
       "    </tr>\n",
       "  </thead>\n",
       "  <tbody>\n",
       "    <tr>\n",
       "      <th>1333</th>\n",
       "      <td>539</td>\n",
       "      <td>1</td>\n",
       "      <td>38</td>\n",
       "      <td>8.0</td>\n",
       "      <td>82407.51</td>\n",
       "      <td>1</td>\n",
       "      <td>1</td>\n",
       "      <td>0</td>\n",
       "      <td>13123.41</td>\n",
       "      <td>0</td>\n",
       "      <td>0</td>\n",
       "      <td>1</td>\n",
       "      <td>0</td>\n",
       "    </tr>\n",
       "    <tr>\n",
       "      <th>3239</th>\n",
       "      <td>762</td>\n",
       "      <td>1</td>\n",
       "      <td>19</td>\n",
       "      <td>6.0</td>\n",
       "      <td>0.00</td>\n",
       "      <td>2</td>\n",
       "      <td>1</td>\n",
       "      <td>0</td>\n",
       "      <td>55500.17</td>\n",
       "      <td>0</td>\n",
       "      <td>0</td>\n",
       "      <td>0</td>\n",
       "      <td>1</td>\n",
       "    </tr>\n",
       "    <tr>\n",
       "      <th>6712</th>\n",
       "      <td>599</td>\n",
       "      <td>1</td>\n",
       "      <td>43</td>\n",
       "      <td>4.0</td>\n",
       "      <td>0.00</td>\n",
       "      <td>1</td>\n",
       "      <td>1</td>\n",
       "      <td>0</td>\n",
       "      <td>170347.10</td>\n",
       "      <td>0</td>\n",
       "      <td>1</td>\n",
       "      <td>0</td>\n",
       "      <td>0</td>\n",
       "    </tr>\n",
       "    <tr>\n",
       "      <th>6212</th>\n",
       "      <td>730</td>\n",
       "      <td>1</td>\n",
       "      <td>62</td>\n",
       "      <td>2.0</td>\n",
       "      <td>0.00</td>\n",
       "      <td>2</td>\n",
       "      <td>1</td>\n",
       "      <td>1</td>\n",
       "      <td>162889.10</td>\n",
       "      <td>0</td>\n",
       "      <td>0</td>\n",
       "      <td>0</td>\n",
       "      <td>1</td>\n",
       "    </tr>\n",
       "    <tr>\n",
       "      <th>7661</th>\n",
       "      <td>612</td>\n",
       "      <td>0</td>\n",
       "      <td>44</td>\n",
       "      <td>2.0</td>\n",
       "      <td>115163.38</td>\n",
       "      <td>1</td>\n",
       "      <td>1</td>\n",
       "      <td>1</td>\n",
       "      <td>97677.52</td>\n",
       "      <td>1</td>\n",
       "      <td>0</td>\n",
       "      <td>1</td>\n",
       "      <td>0</td>\n",
       "    </tr>\n",
       "  </tbody>\n",
       "</table>\n",
       "</div>"
      ],
      "text/plain": [
       "      CreditScore  Gender  Age  Tenure    Balance  NumOfProducts  HasCrCard  \\\n",
       "1333          539       1   38     8.0   82407.51              1          1   \n",
       "3239          762       1   19     6.0       0.00              2          1   \n",
       "6712          599       1   43     4.0       0.00              1          1   \n",
       "6212          730       1   62     2.0       0.00              2          1   \n",
       "7661          612       0   44     2.0  115163.38              1          1   \n",
       "\n",
       "      IsActiveMember  EstimatedSalary  Exited  Geography_France  \\\n",
       "1333               0         13123.41       0                 0   \n",
       "3239               0         55500.17       0                 0   \n",
       "6712               0        170347.10       0                 1   \n",
       "6212               1        162889.10       0                 0   \n",
       "7661               1         97677.52       1                 0   \n",
       "\n",
       "      Geography_Germany  Geography_Spain  \n",
       "1333                  1                0  \n",
       "3239                  0                1  \n",
       "6712                  0                0  \n",
       "6212                  0                1  \n",
       "7661                  1                0  "
      ]
     },
     "execution_count": 7,
     "metadata": {},
     "output_type": "execute_result"
    }
   ],
   "source": [
    "df_numeric_ohe = pd.get_dummies(df_numeric, drop_first=True)\n",
    "df_numeric_ohe.sample(5)"
   ]
  },
  {
   "cell_type": "markdown",
   "id": "1e55068a",
   "metadata": {},
   "source": [
    "Проводим проверку на наличие пустых полей"
   ]
  },
  {
   "cell_type": "code",
   "execution_count": 8,
   "id": "c3928626",
   "metadata": {},
   "outputs": [
    {
     "data": {
      "text/plain": [
       "CreditScore            0\n",
       "Gender                 0\n",
       "Age                    0\n",
       "Tenure               909\n",
       "Balance                0\n",
       "NumOfProducts          0\n",
       "HasCrCard              0\n",
       "IsActiveMember         0\n",
       "EstimatedSalary        0\n",
       "Exited                 0\n",
       "Geography_France       0\n",
       "Geography_Germany      0\n",
       "Geography_Spain        0\n",
       "dtype: int64"
      ]
     },
     "execution_count": 8,
     "metadata": {},
     "output_type": "execute_result"
    }
   ],
   "source": [
    "df_numeric_ohe.isnull().sum()"
   ]
  },
  {
   "cell_type": "markdown",
   "id": "8cd8b279",
   "metadata": {},
   "source": [
    "Чтобы избежать искажения данных при обучении, удаляем строки с пустыми значениями"
   ]
  },
  {
   "cell_type": "code",
   "execution_count": 9,
   "id": "f781d1ee",
   "metadata": {},
   "outputs": [],
   "source": [
    "df_num_stat = df_numeric_ohe.dropna(subset=['Tenure'])"
   ]
  },
  {
   "cell_type": "code",
   "execution_count": 10,
   "id": "0c65db32",
   "metadata": {},
   "outputs": [
    {
     "data": {
      "text/plain": [
       "CreditScore          0\n",
       "Gender               0\n",
       "Age                  0\n",
       "Tenure               0\n",
       "Balance              0\n",
       "NumOfProducts        0\n",
       "HasCrCard            0\n",
       "IsActiveMember       0\n",
       "EstimatedSalary      0\n",
       "Exited               0\n",
       "Geography_France     0\n",
       "Geography_Germany    0\n",
       "Geography_Spain      0\n",
       "dtype: int64"
      ]
     },
     "execution_count": 10,
     "metadata": {},
     "output_type": "execute_result"
    }
   ],
   "source": [
    "df_num_stat.isnull().sum()"
   ]
  },
  {
   "cell_type": "markdown",
   "id": "a8c46929",
   "metadata": {},
   "source": [
    "Если объем удаленных данных не превышает 10% мы можем продолжить работу с полученным скорректированным датасетом"
   ]
  },
  {
   "cell_type": "code",
   "execution_count": 11,
   "id": "fe86b09b",
   "metadata": {},
   "outputs": [
    {
     "data": {
      "text/plain": [
       "0.9091"
      ]
     },
     "execution_count": 11,
     "metadata": {},
     "output_type": "execute_result"
    }
   ],
   "source": [
    "df_num_stat.shape[0]/df_numeric.shape[0]"
   ]
  },
  {
   "cell_type": "markdown",
   "id": "c51f7eb2",
   "metadata": {},
   "source": [
    "**Выводы**\n",
    "\n",
    "На первом этапе выполнены следующие действия:\n",
    "- импортированы необходимые для дальнейшей работы библиотеки\n",
    "- загружены данные и выведены примеры строк\n",
    "- выведена информация по датасету\n",
    "- удалены данные, которые не несут в себе полезной нагрузки для дальнейшего обучения ('RowNumber','CustomerId','Surname')\n",
    "- проведено кодирование полей 'Gender' и 'Geography'\n",
    "- удалены строки с пустыми значениями, их объем не привысил 10%, значит можно работать дальше с полученными после обработки данными"
   ]
  },
  {
   "cell_type": "markdown",
   "id": "d7d941fd",
   "metadata": {},
   "source": [
    "# Шаг 2. Исследование задачи <a id='3'></a>\n",
    "\n",
    "**Исследуйте баланс классов, обучите модель без учёта дисбаланса. Кратко опишите выводы.**"
   ]
  },
  {
   "cell_type": "markdown",
   "id": "2651a0d9",
   "metadata": {},
   "source": [
    "Проводим разделение датасеты на обучающую, валидационную и тестовую выборки в соотношении 3:1:1"
   ]
  },
  {
   "cell_type": "code",
   "execution_count": 12,
   "id": "3c88dfdb",
   "metadata": {},
   "outputs": [
    {
     "name": "stdout",
     "output_type": "stream",
     "text": [
      "(5454, 12)\n",
      "(1819, 12)\n",
      "(1818, 12)\n"
     ]
    }
   ],
   "source": [
    "train, valid = train_test_split(df_num_stat, test_size=0.20, random_state=12345)\n",
    "train, test = train_test_split(train, test_size=0.25, random_state=12345)\n",
    "\n",
    "features_train = train.drop(['Exited'], axis= 1)\n",
    "target_train = train['Exited']\n",
    "\n",
    "features_valid = valid.drop(['Exited'], axis= 1)\n",
    "target_valid = valid['Exited']\n",
    "\n",
    "features_test = test.drop(['Exited'], axis= 1)\n",
    "target_test = test['Exited']\n",
    "\n",
    "print(features_train.shape)\n",
    "print(features_valid.shape)\n",
    "print(features_test.shape)"
   ]
  },
  {
   "cell_type": "code",
   "execution_count": 13,
   "id": "6d406d0c",
   "metadata": {},
   "outputs": [
    {
     "name": "stdout",
     "output_type": "stream",
     "text": [
      "<class 'pandas.core.frame.DataFrame'>\n",
      "Int64Index: 9091 entries, 0 to 9998\n",
      "Data columns (total 13 columns):\n",
      " #   Column             Non-Null Count  Dtype  \n",
      "---  ------             --------------  -----  \n",
      " 0   CreditScore        9091 non-null   int64  \n",
      " 1   Gender             9091 non-null   int64  \n",
      " 2   Age                9091 non-null   int64  \n",
      " 3   Tenure             9091 non-null   float64\n",
      " 4   Balance            9091 non-null   float64\n",
      " 5   NumOfProducts      9091 non-null   int64  \n",
      " 6   HasCrCard          9091 non-null   int64  \n",
      " 7   IsActiveMember     9091 non-null   int64  \n",
      " 8   EstimatedSalary    9091 non-null   float64\n",
      " 9   Exited             9091 non-null   int64  \n",
      " 10  Geography_France   9091 non-null   uint8  \n",
      " 11  Geography_Germany  9091 non-null   uint8  \n",
      " 12  Geography_Spain    9091 non-null   uint8  \n",
      "dtypes: float64(3), int64(7), uint8(3)\n",
      "memory usage: 807.9 KB\n"
     ]
    }
   ],
   "source": [
    "df_num_stat.info()"
   ]
  },
  {
   "cell_type": "markdown",
   "id": "bbfcf5a2",
   "metadata": {},
   "source": [
    "Проводим масштабирование исловых полей, что бы выровнять значения по ним"
   ]
  },
  {
   "cell_type": "code",
   "execution_count": 14,
   "id": "112a337d",
   "metadata": {},
   "outputs": [
    {
     "data": {
      "text/html": [
       "<div>\n",
       "<style scoped>\n",
       "    .dataframe tbody tr th:only-of-type {\n",
       "        vertical-align: middle;\n",
       "    }\n",
       "\n",
       "    .dataframe tbody tr th {\n",
       "        vertical-align: top;\n",
       "    }\n",
       "\n",
       "    .dataframe thead th {\n",
       "        text-align: right;\n",
       "    }\n",
       "</style>\n",
       "<table border=\"1\" class=\"dataframe\">\n",
       "  <thead>\n",
       "    <tr style=\"text-align: right;\">\n",
       "      <th></th>\n",
       "      <th>CreditScore</th>\n",
       "      <th>Gender</th>\n",
       "      <th>Age</th>\n",
       "      <th>Tenure</th>\n",
       "      <th>Balance</th>\n",
       "      <th>NumOfProducts</th>\n",
       "      <th>HasCrCard</th>\n",
       "      <th>IsActiveMember</th>\n",
       "      <th>EstimatedSalary</th>\n",
       "      <th>Geography_France</th>\n",
       "      <th>Geography_Germany</th>\n",
       "      <th>Geography_Spain</th>\n",
       "    </tr>\n",
       "  </thead>\n",
       "  <tbody>\n",
       "    <tr>\n",
       "      <th>3706</th>\n",
       "      <td>-0.203819</td>\n",
       "      <td>1</td>\n",
       "      <td>0.471273</td>\n",
       "      <td>0.352316</td>\n",
       "      <td>0.786022</td>\n",
       "      <td>0.782369</td>\n",
       "      <td>0</td>\n",
       "      <td>0</td>\n",
       "      <td>-0.357205</td>\n",
       "      <td>0</td>\n",
       "      <td>0</td>\n",
       "      <td>1</td>\n",
       "    </tr>\n",
       "    <tr>\n",
       "      <th>6805</th>\n",
       "      <td>-0.357513</td>\n",
       "      <td>1</td>\n",
       "      <td>-0.384930</td>\n",
       "      <td>-1.373506</td>\n",
       "      <td>-1.230577</td>\n",
       "      <td>0.782369</td>\n",
       "      <td>1</td>\n",
       "      <td>1</td>\n",
       "      <td>-1.671048</td>\n",
       "      <td>1</td>\n",
       "      <td>0</td>\n",
       "      <td>0</td>\n",
       "    </tr>\n",
       "    <tr>\n",
       "      <th>4449</th>\n",
       "      <td>0.175290</td>\n",
       "      <td>0</td>\n",
       "      <td>-0.289797</td>\n",
       "      <td>-0.683177</td>\n",
       "      <td>-1.230577</td>\n",
       "      <td>0.782369</td>\n",
       "      <td>1</td>\n",
       "      <td>0</td>\n",
       "      <td>-1.119181</td>\n",
       "      <td>1</td>\n",
       "      <td>0</td>\n",
       "      <td>0</td>\n",
       "    </tr>\n",
       "    <tr>\n",
       "      <th>598</th>\n",
       "      <td>0.349476</td>\n",
       "      <td>1</td>\n",
       "      <td>1.708010</td>\n",
       "      <td>0.007151</td>\n",
       "      <td>1.379462</td>\n",
       "      <td>-0.914942</td>\n",
       "      <td>0</td>\n",
       "      <td>0</td>\n",
       "      <td>-1.569064</td>\n",
       "      <td>0</td>\n",
       "      <td>1</td>\n",
       "      <td>0</td>\n",
       "    </tr>\n",
       "    <tr>\n",
       "      <th>1845</th>\n",
       "      <td>0.902771</td>\n",
       "      <td>0</td>\n",
       "      <td>-0.289797</td>\n",
       "      <td>1.387809</td>\n",
       "      <td>-1.230577</td>\n",
       "      <td>-0.914942</td>\n",
       "      <td>0</td>\n",
       "      <td>1</td>\n",
       "      <td>1.543790</td>\n",
       "      <td>1</td>\n",
       "      <td>0</td>\n",
       "      <td>0</td>\n",
       "    </tr>\n",
       "  </tbody>\n",
       "</table>\n",
       "</div>"
      ],
      "text/plain": [
       "      CreditScore  Gender       Age    Tenure   Balance  NumOfProducts  \\\n",
       "3706    -0.203819       1  0.471273  0.352316  0.786022       0.782369   \n",
       "6805    -0.357513       1 -0.384930 -1.373506 -1.230577       0.782369   \n",
       "4449     0.175290       0 -0.289797 -0.683177 -1.230577       0.782369   \n",
       "598      0.349476       1  1.708010  0.007151  1.379462      -0.914942   \n",
       "1845     0.902771       0 -0.289797  1.387809 -1.230577      -0.914942   \n",
       "\n",
       "      HasCrCard  IsActiveMember  EstimatedSalary  Geography_France  \\\n",
       "3706          0               0        -0.357205                 0   \n",
       "6805          1               1        -1.671048                 1   \n",
       "4449          1               0        -1.119181                 1   \n",
       "598           0               0        -1.569064                 0   \n",
       "1845          0               1         1.543790                 1   \n",
       "\n",
       "      Geography_Germany  Geography_Spain  \n",
       "3706                  0                1  \n",
       "6805                  0                0  \n",
       "4449                  0                0  \n",
       "598                   1                0  \n",
       "1845                  0                0  "
      ]
     },
     "execution_count": 14,
     "metadata": {},
     "output_type": "execute_result"
    }
   ],
   "source": [
    "numeric = ['CreditScore', 'Age', 'Tenure', 'Balance', 'NumOfProducts', 'EstimatedSalary']\n",
    "scaler = StandardScaler()\n",
    "scaler.fit(features_train[numeric])\n",
    "features_train[numeric] = scaler.transform(features_train[numeric])\n",
    "features_valid[numeric] = scaler.transform(features_valid[numeric])\n",
    "features_test[numeric] = scaler.transform(features_test[numeric])\n",
    "features_train.head()"
   ]
  },
  {
   "cell_type": "markdown",
   "id": "25b3e413",
   "metadata": {},
   "source": [
    "Проводим обучение модели Дерево решений без учета балланса классов"
   ]
  },
  {
   "cell_type": "code",
   "execution_count": 15,
   "id": "f8611471",
   "metadata": {},
   "outputs": [
    {
     "name": "stdout",
     "output_type": "stream",
     "text": [
      "[[1337  113]\n",
      " [ 189  180]]\n",
      "F1: 0.5438066465256798\n"
     ]
    }
   ],
   "source": [
    "model = DecisionTreeClassifier(random_state=12345, max_depth=20, min_samples_split=30, min_samples_leaf=5)\n",
    "model.fit(features_train, target_train)\n",
    "predicted_valid = model.predict(features_valid)\n",
    "probabilities_valid = model.predict_proba(features_valid)\n",
    "probabilities_one_valid = probabilities_valid[:, 1]\n",
    "\n",
    "print(confusion_matrix(target_valid, predicted_valid))\n",
    "print(\"F1:\", f1_score(target_valid, predicted_valid))"
   ]
  },
  {
   "cell_type": "markdown",
   "id": "f96017ec",
   "metadata": {},
   "source": [
    "Проводим обучение модели Случайный лес без учета балланса классов"
   ]
  },
  {
   "cell_type": "code",
   "execution_count": 16,
   "id": "bc37941f",
   "metadata": {},
   "outputs": [
    {
     "name": "stdout",
     "output_type": "stream",
     "text": [
      "F1: 0.5420240137221269\n"
     ]
    }
   ],
   "source": [
    "model = RandomForestClassifier(random_state=12345, n_estimators=20, max_depth=15)\n",
    "model.fit(features_train, target_train)\n",
    "predicted_valid = model.predict(features_valid)\n",
    "probabilities_valid = model.predict_proba(features_valid)\n",
    "probabilities_one_valid = probabilities_valid[:, 1]\n",
    "\n",
    "print(\"F1:\", f1_score(target_valid, predicted_valid))"
   ]
  },
  {
   "cell_type": "markdown",
   "id": "6c255d16",
   "metadata": {},
   "source": [
    "Проводим обучение модели Логистическая регрессия без учета балланса классов"
   ]
  },
  {
   "cell_type": "code",
   "execution_count": 17,
   "id": "ae1e25c4",
   "metadata": {},
   "outputs": [
    {
     "name": "stdout",
     "output_type": "stream",
     "text": [
      "F1: 0.5420240137221269\n"
     ]
    }
   ],
   "source": [
    "model = LogisticRegression(random_state=12345, solver='liblinear')\n",
    "model.fit(features_train, target_train)\n",
    "\n",
    "probabilities_valid = model.predict_proba(features_valid)\n",
    "probabilities_one_valid = probabilities_valid[:, 1]\n",
    "\n",
    "print(\"F1:\", f1_score(target_valid, predicted_valid))"
   ]
  },
  {
   "cell_type": "markdown",
   "id": "3dbf662c",
   "metadata": {},
   "source": [
    "**Выводы**\n",
    "\n",
    "По итогу проведенных работ были получены следующие итоги\n",
    "- данные были разделены на три выборки в соотношении 3:1:1 (тренировочная, валидационная и тестовая)\n",
    "- было проведено масштабирование числовых параметров\n",
    "- было проведено обучение на данных без выравнивания классов, наилучший итог был получен для Дерева решений (F1 0.5438)"
   ]
  },
  {
   "cell_type": "markdown",
   "id": "b7caf9fa",
   "metadata": {},
   "source": [
    "# Шаг 3. Борьба с дисбалансом <a id='4'></a>\n",
    "\n",
    "**Улучшите качество модели, учитывая дисбаланс классов. Обучите разные модели и найдите лучшую. Кратко опишите выводы.**"
   ]
  },
  {
   "cell_type": "markdown",
   "id": "72a353a6",
   "metadata": {},
   "source": [
    "Проводим исследование балланса классов, сравниваем значения классов с \"0\" и \"1\""
   ]
  },
  {
   "cell_type": "code",
   "execution_count": 18,
   "id": "1da5ab3f",
   "metadata": {},
   "outputs": [
    {
     "name": "stdout",
     "output_type": "stream",
     "text": [
      "(1119, 12)\n",
      "(4335, 12)\n",
      "(4335,)\n",
      "(1119,)\n",
      "Коэффициент масштабирования классов 4.0\n"
     ]
    }
   ],
   "source": [
    "def upsample(features, target, repeat):\n",
    "    features_zeros = features[target == 0]\n",
    "    features_ones = features[target == 1]\n",
    "    target_zeros = target[target == 0]\n",
    "    target_ones = target[target == 1]\n",
    "\n",
    "    features_upsampled = pd.concat([features_zeros] + [features_ones] * repeat)\n",
    "    target_upsampled = pd.concat([target_zeros] + [target_ones] * repeat)\n",
    "    \n",
    "    features_upsampled, target_upsampled = shuffle(\n",
    "        features_upsampled, target_upsampled, random_state=12345)\n",
    "    print(features_ones.shape)\n",
    "    print(features_zeros.shape)\n",
    "    print(target_zeros.shape)\n",
    "    print(target_ones.shape)\n",
    "    print(\"Коэффициент масштабирования классов\", round(len(target_zeros)/len(target_ones), 0))\n",
    "    \n",
    "    return features_upsampled, target_upsampled\n",
    "features_upsampled, target_upsampled = upsample(features_train, target_train, 4)"
   ]
  },
  {
   "cell_type": "markdown",
   "id": "713ba09b",
   "metadata": {},
   "source": [
    "Обучение Дерева решений после повышения классов"
   ]
  },
  {
   "cell_type": "code",
   "execution_count": 19,
   "id": "0b49b65b",
   "metadata": {},
   "outputs": [
    {
     "name": "stdout",
     "output_type": "stream",
     "text": [
      "F1: 0.47849462365591394\n",
      "AUC-ROC: 0.6732613774413606\n"
     ]
    }
   ],
   "source": [
    "model = DecisionTreeClassifier(random_state=12345)\n",
    "model.fit(features_upsampled, target_upsampled)\n",
    "predicted_valid = model.predict(features_valid)\n",
    "probabilities_valid = model.predict_proba(features_valid)\n",
    "probabilities_one_valid = probabilities_valid[:, 1]\n",
    "\n",
    "print(\"F1:\", f1_score(target_valid, predicted_valid))\n",
    "print(\"AUC-ROC:\", roc_auc_score(target_valid, probabilities_one_valid))"
   ]
  },
  {
   "cell_type": "markdown",
   "id": "552364d5",
   "metadata": {},
   "source": [
    "Обучение Случайного леса после повышения классов"
   ]
  },
  {
   "cell_type": "code",
   "execution_count": 20,
   "id": "e3b1c43b",
   "metadata": {},
   "outputs": [
    {
     "name": "stdout",
     "output_type": "stream",
     "text": [
      "F1: 0.5977961432506886\n",
      "AUC-ROC: 0.8517035791047566\n"
     ]
    }
   ],
   "source": [
    "model = RandomForestClassifier(random_state=12345, max_depth=30, min_samples_split=11, min_samples_leaf=1)\n",
    "model.fit(features_upsampled, target_upsampled)\n",
    "predicted_valid = model.predict(features_valid)\n",
    "probabilities_valid = model.predict_proba(features_valid)\n",
    "probabilities_one_valid = probabilities_valid[:, 1]\n",
    "\n",
    "print(\"F1:\", f1_score(target_valid, predicted_valid))\n",
    "print(\"AUC-ROC:\", roc_auc_score(target_valid, probabilities_one_valid))"
   ]
  },
  {
   "cell_type": "markdown",
   "id": "4d806040",
   "metadata": {},
   "source": [
    "Обучение Логистической регрессии после повышения классов"
   ]
  },
  {
   "cell_type": "code",
   "execution_count": 21,
   "id": "9740c1e1",
   "metadata": {},
   "outputs": [
    {
     "name": "stdout",
     "output_type": "stream",
     "text": [
      "F1: 0.5977961432506886\n",
      "AUC-ROC: 0.788083356695636\n"
     ]
    }
   ],
   "source": [
    "model = LogisticRegression(random_state=12345, solver='liblinear')\n",
    "model.fit(features_upsampled, target_upsampled)\n",
    "\n",
    "probabilities_valid = model.predict_proba(features_valid)\n",
    "probabilities_one_valid = probabilities_valid[:, 1]\n",
    "\n",
    "print(\"F1:\", f1_score(target_valid, predicted_valid))\n",
    "print(\"AUC-ROC:\", roc_auc_score(target_valid, probabilities_one_valid))"
   ]
  },
  {
   "cell_type": "markdown",
   "id": "9d76c28e",
   "metadata": {},
   "source": [
    "Проводим понижение классов, для сравнения результатов"
   ]
  },
  {
   "cell_type": "code",
   "execution_count": 22,
   "id": "af75aad3",
   "metadata": {},
   "outputs": [],
   "source": [
    "def downsample(features, target, fraction):\n",
    "    features_zeros = features[target == 0]\n",
    "    features_ones = features[target == 1]\n",
    "    target_zeros = target[target == 0]\n",
    "    target_ones = target[target == 1]\n",
    "\n",
    "    features_downsampled = pd.concat(\n",
    "        [features_zeros.sample(frac=fraction, random_state=12345)] + [features_ones])\n",
    "    target_downsampled = pd.concat(\n",
    "        [target_zeros.sample(frac=fraction, random_state=12345)] + [target_ones])\n",
    "    \n",
    "    features_downsampled, target_downsampled = shuffle(\n",
    "        features_downsampled, target_downsampled, random_state=12345)\n",
    "    \n",
    "    return features_downsampled, target_downsampled\n",
    "\n",
    "features_downsampled, target_downsampled = downsample(features_train, target_train, 0.25)"
   ]
  },
  {
   "cell_type": "markdown",
   "id": "343311e2",
   "metadata": {},
   "source": [
    "Обучение Дерева решений после понижения классов"
   ]
  },
  {
   "cell_type": "code",
   "execution_count": 23,
   "id": "aa8eba62",
   "metadata": {},
   "outputs": [
    {
     "name": "stdout",
     "output_type": "stream",
     "text": [
      "F1: 0.48250460405156537\n",
      "AUC-ROC: 0.6981169984113634\n"
     ]
    }
   ],
   "source": [
    "model = DecisionTreeClassifier(random_state=12345)\n",
    "model.fit(features_downsampled, target_downsampled)\n",
    "predicted_valid = model.predict(features_valid)\n",
    "probabilities_valid = model.predict_proba(features_valid)\n",
    "probabilities_one_valid = probabilities_valid[:, 1]\n",
    "\n",
    "print(\"F1:\", f1_score(target_valid, predicted_valid))\n",
    "print(\"AUC-ROC:\", roc_auc_score(target_valid, probabilities_one_valid))"
   ]
  },
  {
   "cell_type": "markdown",
   "id": "0c3d5b7b",
   "metadata": {},
   "source": [
    "Обучение Случайноголеса после понижения классов"
   ]
  },
  {
   "cell_type": "code",
   "execution_count": 24,
   "id": "910f83a3",
   "metadata": {},
   "outputs": [
    {
     "name": "stdout",
     "output_type": "stream",
     "text": [
      "F1: 0.5726495726495726\n",
      "AUC-ROC: 0.8325642463321186\n"
     ]
    }
   ],
   "source": [
    "model = RandomForestClassifier(random_state=12345, n_estimators=20, max_depth=15)\n",
    "model.fit(features_downsampled, target_downsampled)\n",
    "predicted_valid = model.predict(features_valid)\n",
    "probabilities_valid = model.predict_proba(features_valid)\n",
    "probabilities_one_valid = probabilities_valid[:, 1]\n",
    "\n",
    "print(\"F1:\", f1_score(target_valid, predicted_valid))\n",
    "print(\"AUC-ROC:\", roc_auc_score(target_valid, probabilities_one_valid))"
   ]
  },
  {
   "cell_type": "markdown",
   "id": "a33c7750",
   "metadata": {},
   "source": [
    "Обучение Логистической регрессии после понижения классов"
   ]
  },
  {
   "cell_type": "code",
   "execution_count": 25,
   "id": "0cb78ac6",
   "metadata": {},
   "outputs": [
    {
     "name": "stdout",
     "output_type": "stream",
     "text": [
      "F1: 0.5726495726495726\n",
      "AUC-ROC: 0.7872909073918326\n"
     ]
    }
   ],
   "source": [
    "model = LogisticRegression(random_state=12345, solver='liblinear')\n",
    "model.fit(features_downsampled, target_downsampled)\n",
    "\n",
    "probabilities_valid = model.predict_proba(features_valid)\n",
    "probabilities_one_valid = probabilities_valid[:, 1]\n",
    "\n",
    "print(\"F1:\", f1_score(target_valid, predicted_valid))\n",
    "print(\"AUC-ROC:\", roc_auc_score(target_valid, probabilities_one_valid))"
   ]
  },
  {
   "cell_type": "markdown",
   "id": "370653ea",
   "metadata": {},
   "source": [
    "Обучение Дерева решений с изменением порога"
   ]
  },
  {
   "cell_type": "code",
   "execution_count": 26,
   "id": "843001dc",
   "metadata": {
    "scrolled": true
   },
   "outputs": [
    {
     "name": "stdout",
     "output_type": "stream",
     "text": [
      "Порог = 0.00 | Точность = 0.470, Полнота = 0.491\n",
      "Порог = 0.02 | Точность = 0.470, Полнота = 0.491\n",
      "Порог = 0.04 | Точность = 0.470, Полнота = 0.491\n",
      "Порог = 0.06 | Точность = 0.470, Полнота = 0.491\n",
      "Порог = 0.08 | Точность = 0.470, Полнота = 0.491\n",
      "Порог = 0.10 | Точность = 0.470, Полнота = 0.491\n",
      "Порог = 0.12 | Точность = 0.470, Полнота = 0.491\n",
      "Порог = 0.14 | Точность = 0.470, Полнота = 0.491\n",
      "Порог = 0.16 | Точность = 0.470, Полнота = 0.491\n",
      "Порог = 0.18 | Точность = 0.470, Полнота = 0.491\n",
      "Порог = 0.20 | Точность = 0.470, Полнота = 0.491\n",
      "Порог = 0.22 | Точность = 0.470, Полнота = 0.491\n",
      "Порог = 0.24 | Точность = 0.470, Полнота = 0.491\n",
      "Порог = 0.26 | Точность = 0.470, Полнота = 0.491\n",
      "Порог = 0.28 | Точность = 0.470, Полнота = 0.491\n",
      "Порог = 0.30 | Точность = 0.470, Полнота = 0.491\n",
      "Порог = 0.32 | Точность = 0.470, Полнота = 0.491\n",
      "Порог = 0.34 | Точность = 0.470, Полнота = 0.491\n",
      "Порог = 0.36 | Точность = 0.470, Полнота = 0.491\n",
      "Порог = 0.38 | Точность = 0.470, Полнота = 0.491\n",
      "Порог = 0.40 | Точность = 0.470, Полнота = 0.491\n",
      "Порог = 0.42 | Точность = 0.470, Полнота = 0.491\n",
      "Порог = 0.44 | Точность = 0.470, Полнота = 0.491\n",
      "Порог = 0.46 | Точность = 0.470, Полнота = 0.491\n",
      "Порог = 0.48 | Точность = 0.470, Полнота = 0.491\n",
      "0.480106100795756\n",
      "AUC-ROC: 0.6749126249883187\n"
     ]
    }
   ],
   "source": [
    "model = DecisionTreeClassifier(random_state=12345)\n",
    "model.fit(features_train, target_train)\n",
    "probabilities_valid = model.predict_proba(features_valid)\n",
    "probabilities_one_valid = probabilities_valid[:, 1]\n",
    "\n",
    "for threshold in np.arange(0, 0.5, 0.02):\n",
    "    predicted_valid = probabilities_one_valid > threshold \n",
    "    precision = precision_score(target_valid, predicted_valid)\n",
    "    recall = recall_score(target_valid, predicted_valid)\n",
    "\n",
    "    print(\"Порог = {:.2f} | Точность = {:.3f}, Полнота = {:.3f}\".format(\n",
    "        threshold, precision, recall))\n",
    "\n",
    "print(f1_score(target_valid, predicted_valid))\n",
    "print(\"AUC-ROC:\", roc_auc_score(target_valid, probabilities_one_valid))"
   ]
  },
  {
   "cell_type": "markdown",
   "id": "a85f04de",
   "metadata": {},
   "source": [
    "Обучение Случайного леса после изменения порога"
   ]
  },
  {
   "cell_type": "code",
   "execution_count": 27,
   "id": "6bd752ac",
   "metadata": {},
   "outputs": [
    {
     "name": "stdout",
     "output_type": "stream",
     "text": [
      "Порог = 0.36 | Точность = 0.603, Полнота = 0.561\n",
      "F1: 0.5814606741573034\n",
      "AUC-ROC: 0.8336361087748809\n",
      "Порог = 0.38 | Точность = 0.622, Полнота = 0.539\n",
      "F1: 0.5776487663280117\n",
      "AUC-ROC: 0.8336361087748809\n"
     ]
    }
   ],
   "source": [
    "model = RandomForestClassifier(random_state=12345, n_estimators=20, max_depth=16)\n",
    "model.fit(features_train, target_train)\n",
    "predicted_valid = model.predict(features_valid)\n",
    "probabilities_valid = model.predict_proba(features_valid)\n",
    "probabilities_one_valid = probabilities_valid[:, 1]\n",
    "\n",
    "for threshold in np.arange(0.36, 0.38, 0.02):\n",
    "    predicted_valid = probabilities_one_valid > threshold \n",
    "    precision = precision_score(target_valid, predicted_valid)\n",
    "    recall = recall_score(target_valid, predicted_valid)\n",
    "\n",
    "    print(\"Порог = {:.2f} | Точность = {:.3f}, Полнота = {:.3f}\".format(\n",
    "        threshold, precision, recall))\n",
    "    print(\"F1:\", f1_score(target_valid, predicted_valid))\n",
    "    print(\"AUC-ROC:\", roc_auc_score(target_valid, probabilities_one_valid))"
   ]
  },
  {
   "cell_type": "markdown",
   "id": "957f67bb",
   "metadata": {},
   "source": [
    "Обучение логистической регрессии с изменением порога"
   ]
  },
  {
   "cell_type": "code",
   "execution_count": 28,
   "id": "ff2b7747",
   "metadata": {},
   "outputs": [
    {
     "name": "stdout",
     "output_type": "stream",
     "text": [
      "Порог = 0.20 | Точность = 0.390, Полнота = 0.726\n",
      "F1: 0.5075757575757576\n",
      "AUC-ROC: 0.7881693299691618\n",
      "Порог = 0.22 | Точность = 0.402, Полнота = 0.672\n",
      "F1: 0.5030425963488844\n",
      "AUC-ROC: 0.7881693299691618\n",
      "Порог = 0.24 | Точность = 0.432, Полнота = 0.642\n",
      "F1: 0.5163398692810457\n",
      "AUC-ROC: 0.7881693299691618\n"
     ]
    }
   ],
   "source": [
    "model = LogisticRegression(random_state=12345, solver='liblinear')\n",
    "model.fit(features_train, target_train)\n",
    "\n",
    "probabilities_valid = model.predict_proba(features_valid)\n",
    "probabilities_one_valid = probabilities_valid[:, 1]\n",
    "\n",
    "for threshold in np.arange(0.2, 0.26, 0.02):\n",
    "    predicted_valid = probabilities_one_valid > threshold \n",
    "    precision = precision_score(target_valid, predicted_valid)\n",
    "    recall = recall_score(target_valid, predicted_valid)\n",
    "\n",
    "    print(\"Порог = {:.2f} | Точность = {:.3f}, Полнота = {:.3f}\".format(\n",
    "        threshold, precision, recall))\n",
    "    print(\"F1:\", f1_score(target_valid, predicted_valid))\n",
    "    print(\"AUC-ROC:\", roc_auc_score(target_valid, probabilities_one_valid))"
   ]
  },
  {
   "cell_type": "markdown",
   "id": "773f5c85",
   "metadata": {},
   "source": [
    "**Выводы**\n",
    "\n",
    "В итоге выравнивания классов были получены следующие результаты:\n",
    "- коэффициент масштабирования классов 4\n",
    "- при повышении классов луший рещультат был получен для случаного леса\n",
    "    - F1: 0.5977961432506886\n",
    "    - AUC-ROC: 0.8517035791047566\n",
    "- при понижении классов лучший результат был достигнут для случайного леса\n",
    "    - F1: 0.5726495726495726\n",
    "    - AUC-ROC: 0.8325642463321186\n",
    "- при изменении порога лучший результат опять же был получен для случайного леса\n",
    "    - F1: 0.5814606741573034\n",
    "    - AUC-ROC: 0.8336361087748809"
   ]
  },
  {
   "cell_type": "markdown",
   "id": "babae384",
   "metadata": {},
   "source": [
    "# Шаг 4. Тестирование модели <a id='5'></a>\n",
    "\n",
    "**Проведите финальное тестирование.**"
   ]
  },
  {
   "cell_type": "code",
   "execution_count": 29,
   "id": "d49b2bef",
   "metadata": {},
   "outputs": [
    {
     "name": "stdout",
     "output_type": "stream",
     "text": [
      "F1: 0.6035182679296347\n",
      "AUC-ROC: 0.8384534615905703\n"
     ]
    }
   ],
   "source": [
    "model = RandomForestClassifier(random_state=12345, max_depth=15, min_samples_split=10, min_samples_leaf=2, n_estimators=20)\n",
    "model.fit(features_upsampled, target_upsampled)\n",
    "predicted_test = model.predict(features_test)\n",
    "probabilities_valid = model.predict_proba(features_test)\n",
    "probabilities_one_valid = probabilities_valid[:, 1]\n",
    "\n",
    "print(\"F1:\", f1_score(target_test, predicted_test))\n",
    "print(\"AUC-ROC:\", roc_auc_score(target_test, probabilities_one_valid))"
   ]
  },
  {
   "cell_type": "markdown",
   "id": "7dacf6c3",
   "metadata": {},
   "source": [
    "**Выводы**\n",
    "\n",
    "Для тестирования была выбрана модель случайного леса, так как при валидации на ней были получены лучшие результаты\n",
    "- F1: 0.6035182679296347\n",
    "- AUC-ROC: 0.8384534615905703"
   ]
  },
  {
   "cell_type": "markdown",
   "id": "0ab99ba8",
   "metadata": {
    "id": "0ab99ba8"
   },
   "source": [
    "# Общий вывод <a id='6'></a>\n",
    "\n",
    "\n",
    "В рамках проекта были получены следующие результаты\n",
    "1. Были загружены и подготовлены данные датасета\n",
    "2. Данные были разделены на выборки\n",
    "3. Было проведено обучение без выравнивания классов\n",
    "4. Был определен коэффициент для выравнивания классов выборки\n",
    "5. Было проведено обучение на выборках со скорректированными классами, лучшие результаты были получены для Случайного леса\n",
    "6. Было проведено тестирование на тестовой выборке и достигнуто искомое значение F1"
   ]
  }
 ],
 "metadata": {
  "ExecuteTimeLog": [
   {
    "duration": 97,
    "start_time": "2023-09-01T12:12:36.930Z"
   },
   {
    "duration": 11,
    "start_time": "2023-09-01T12:37:48.007Z"
   },
   {
    "duration": 51,
    "start_time": "2023-09-01T13:13:45.823Z"
   },
   {
    "duration": 1244,
    "start_time": "2023-09-02T12:26:52.045Z"
   },
   {
    "duration": 126,
    "start_time": "2023-09-02T12:26:53.291Z"
   },
   {
    "duration": 14,
    "start_time": "2023-09-02T12:26:53.419Z"
   },
   {
    "duration": 20,
    "start_time": "2023-09-02T12:26:53.435Z"
   },
   {
    "duration": 59,
    "start_time": "2023-09-02T12:26:53.457Z"
   },
   {
    "duration": 19,
    "start_time": "2023-09-02T12:26:53.518Z"
   },
   {
    "duration": 18,
    "start_time": "2023-09-02T12:26:53.539Z"
   },
   {
    "duration": 6,
    "start_time": "2023-09-02T12:26:53.560Z"
   },
   {
    "duration": 24,
    "start_time": "2023-09-02T12:26:53.568Z"
   },
   {
    "duration": 24,
    "start_time": "2023-09-02T12:26:53.594Z"
   },
   {
    "duration": 7,
    "start_time": "2023-09-02T12:26:53.620Z"
   },
   {
    "duration": 5,
    "start_time": "2023-09-02T12:27:28.214Z"
   },
   {
    "duration": 92,
    "start_time": "2023-09-02T12:27:28.221Z"
   },
   {
    "duration": 14,
    "start_time": "2023-09-02T12:27:28.315Z"
   },
   {
    "duration": 24,
    "start_time": "2023-09-02T12:27:28.330Z"
   },
   {
    "duration": 26,
    "start_time": "2023-09-02T12:27:28.356Z"
   },
   {
    "duration": 29,
    "start_time": "2023-09-02T12:27:28.383Z"
   },
   {
    "duration": 19,
    "start_time": "2023-09-02T12:27:28.414Z"
   },
   {
    "duration": 7,
    "start_time": "2023-09-02T12:27:28.434Z"
   },
   {
    "duration": 13,
    "start_time": "2023-09-02T12:27:28.442Z"
   },
   {
    "duration": 7,
    "start_time": "2023-09-02T12:27:28.457Z"
   },
   {
    "duration": 10,
    "start_time": "2023-09-02T12:27:28.465Z"
   },
   {
    "duration": 110,
    "start_time": "2023-09-02T12:32:15.035Z"
   },
   {
    "duration": 0,
    "start_time": "2023-09-02T12:32:15.148Z"
   },
   {
    "duration": 0,
    "start_time": "2023-09-02T12:32:15.149Z"
   },
   {
    "duration": 0,
    "start_time": "2023-09-02T12:32:15.151Z"
   },
   {
    "duration": 0,
    "start_time": "2023-09-02T12:32:15.153Z"
   },
   {
    "duration": 0,
    "start_time": "2023-09-02T12:32:15.154Z"
   },
   {
    "duration": 0,
    "start_time": "2023-09-02T12:32:15.156Z"
   },
   {
    "duration": 1,
    "start_time": "2023-09-02T12:32:15.157Z"
   },
   {
    "duration": 0,
    "start_time": "2023-09-02T12:32:15.159Z"
   },
   {
    "duration": 0,
    "start_time": "2023-09-02T12:32:15.161Z"
   },
   {
    "duration": 0,
    "start_time": "2023-09-02T12:32:15.162Z"
   },
   {
    "duration": 0,
    "start_time": "2023-09-02T12:32:15.164Z"
   },
   {
    "duration": 0,
    "start_time": "2023-09-02T12:32:15.165Z"
   },
   {
    "duration": 0,
    "start_time": "2023-09-02T12:32:15.167Z"
   },
   {
    "duration": 0,
    "start_time": "2023-09-02T12:32:15.169Z"
   },
   {
    "duration": 0,
    "start_time": "2023-09-02T12:32:15.170Z"
   },
   {
    "duration": 0,
    "start_time": "2023-09-02T12:32:15.172Z"
   },
   {
    "duration": 148,
    "start_time": "2023-09-02T12:40:00.113Z"
   },
   {
    "duration": 0,
    "start_time": "2023-09-02T12:40:00.263Z"
   },
   {
    "duration": 0,
    "start_time": "2023-09-02T12:40:00.264Z"
   },
   {
    "duration": 0,
    "start_time": "2023-09-02T12:40:00.266Z"
   },
   {
    "duration": 0,
    "start_time": "2023-09-02T12:40:00.267Z"
   },
   {
    "duration": 0,
    "start_time": "2023-09-02T12:40:00.269Z"
   },
   {
    "duration": 0,
    "start_time": "2023-09-02T12:40:00.271Z"
   },
   {
    "duration": 0,
    "start_time": "2023-09-02T12:40:00.272Z"
   },
   {
    "duration": 0,
    "start_time": "2023-09-02T12:40:00.274Z"
   },
   {
    "duration": 0,
    "start_time": "2023-09-02T12:40:00.275Z"
   },
   {
    "duration": 0,
    "start_time": "2023-09-02T12:40:00.277Z"
   },
   {
    "duration": 0,
    "start_time": "2023-09-02T12:40:00.278Z"
   },
   {
    "duration": 0,
    "start_time": "2023-09-02T12:40:00.280Z"
   },
   {
    "duration": 0,
    "start_time": "2023-09-02T12:40:00.281Z"
   },
   {
    "duration": 0,
    "start_time": "2023-09-02T12:40:00.282Z"
   },
   {
    "duration": 0,
    "start_time": "2023-09-02T12:40:00.283Z"
   },
   {
    "duration": 0,
    "start_time": "2023-09-02T12:40:00.284Z"
   },
   {
    "duration": 117,
    "start_time": "2023-09-02T12:40:16.779Z"
   },
   {
    "duration": 0,
    "start_time": "2023-09-02T12:40:16.898Z"
   },
   {
    "duration": 0,
    "start_time": "2023-09-02T12:40:16.900Z"
   },
   {
    "duration": 0,
    "start_time": "2023-09-02T12:40:16.905Z"
   },
   {
    "duration": 0,
    "start_time": "2023-09-02T12:40:16.906Z"
   },
   {
    "duration": 0,
    "start_time": "2023-09-02T12:40:16.907Z"
   },
   {
    "duration": 0,
    "start_time": "2023-09-02T12:40:16.908Z"
   },
   {
    "duration": 0,
    "start_time": "2023-09-02T12:40:16.908Z"
   },
   {
    "duration": 0,
    "start_time": "2023-09-02T12:40:16.909Z"
   },
   {
    "duration": 0,
    "start_time": "2023-09-02T12:40:16.910Z"
   },
   {
    "duration": 0,
    "start_time": "2023-09-02T12:40:16.910Z"
   },
   {
    "duration": 0,
    "start_time": "2023-09-02T12:40:16.911Z"
   },
   {
    "duration": 0,
    "start_time": "2023-09-02T12:40:16.912Z"
   },
   {
    "duration": 0,
    "start_time": "2023-09-02T12:40:16.912Z"
   },
   {
    "duration": 0,
    "start_time": "2023-09-02T12:40:16.913Z"
   },
   {
    "duration": 0,
    "start_time": "2023-09-02T12:40:16.914Z"
   },
   {
    "duration": 0,
    "start_time": "2023-09-02T12:40:16.914Z"
   },
   {
    "duration": 4,
    "start_time": "2023-09-02T12:40:39.137Z"
   },
   {
    "duration": 119,
    "start_time": "2023-09-02T12:40:39.143Z"
   },
   {
    "duration": 20,
    "start_time": "2023-09-02T12:40:39.264Z"
   },
   {
    "duration": 33,
    "start_time": "2023-09-02T12:40:39.286Z"
   },
   {
    "duration": 65,
    "start_time": "2023-09-02T12:40:39.322Z"
   },
   {
    "duration": 71,
    "start_time": "2023-09-02T12:40:39.389Z"
   },
   {
    "duration": 22,
    "start_time": "2023-09-02T12:40:39.462Z"
   },
   {
    "duration": 6,
    "start_time": "2023-09-02T12:40:39.485Z"
   },
   {
    "duration": 28,
    "start_time": "2023-09-02T12:40:39.493Z"
   },
   {
    "duration": 45,
    "start_time": "2023-09-02T12:40:39.523Z"
   },
   {
    "duration": 47,
    "start_time": "2023-09-02T12:40:39.570Z"
   },
   {
    "duration": 35,
    "start_time": "2023-09-02T12:40:39.618Z"
   },
   {
    "duration": 20,
    "start_time": "2023-09-02T12:40:39.654Z"
   },
   {
    "duration": 43,
    "start_time": "2023-09-02T12:40:39.677Z"
   },
   {
    "duration": 35,
    "start_time": "2023-09-02T12:40:39.722Z"
   },
   {
    "duration": 177,
    "start_time": "2023-09-02T12:40:39.760Z"
   },
   {
    "duration": 71,
    "start_time": "2023-09-02T12:40:39.939Z"
   },
   {
    "duration": 4,
    "start_time": "2023-09-02T12:48:14.950Z"
   },
   {
    "duration": 82,
    "start_time": "2023-09-02T12:48:14.956Z"
   },
   {
    "duration": 13,
    "start_time": "2023-09-02T12:48:15.039Z"
   },
   {
    "duration": 68,
    "start_time": "2023-09-02T12:48:15.054Z"
   },
   {
    "duration": 42,
    "start_time": "2023-09-02T12:48:15.125Z"
   },
   {
    "duration": 37,
    "start_time": "2023-09-02T12:48:15.169Z"
   },
   {
    "duration": 20,
    "start_time": "2023-09-02T12:48:15.214Z"
   },
   {
    "duration": 22,
    "start_time": "2023-09-02T12:48:15.236Z"
   },
   {
    "duration": 25,
    "start_time": "2023-09-02T12:48:15.260Z"
   },
   {
    "duration": 38,
    "start_time": "2023-09-02T12:48:15.287Z"
   },
   {
    "duration": 22,
    "start_time": "2023-09-02T12:48:15.327Z"
   },
   {
    "duration": 38,
    "start_time": "2023-09-02T12:48:15.351Z"
   },
   {
    "duration": 34,
    "start_time": "2023-09-02T12:48:15.391Z"
   },
   {
    "duration": 56,
    "start_time": "2023-09-02T12:48:15.427Z"
   },
   {
    "duration": 39,
    "start_time": "2023-09-02T12:48:15.484Z"
   },
   {
    "duration": 163,
    "start_time": "2023-09-02T12:48:15.526Z"
   },
   {
    "duration": 33,
    "start_time": "2023-09-02T12:48:15.691Z"
   },
   {
    "duration": 115,
    "start_time": "2023-09-02T12:48:15.801Z"
   },
   {
    "duration": 44,
    "start_time": "2023-09-02T12:48:15.917Z"
   },
   {
    "duration": 949,
    "start_time": "2023-09-02T12:48:15.963Z"
   },
   {
    "duration": 92,
    "start_time": "2023-09-02T12:48:16.919Z"
   },
   {
    "duration": 96,
    "start_time": "2023-09-02T12:48:17.017Z"
   },
   {
    "duration": 23,
    "start_time": "2023-09-02T12:48:17.116Z"
   },
   {
    "duration": 112,
    "start_time": "2023-09-02T12:48:17.141Z"
   },
   {
    "duration": 52,
    "start_time": "2023-09-02T12:48:17.255Z"
   },
   {
    "duration": 213,
    "start_time": "2023-09-02T12:48:17.309Z"
   },
   {
    "duration": 172,
    "start_time": "2023-09-02T12:48:17.524Z"
   },
   {
    "duration": 195,
    "start_time": "2023-09-02T12:48:17.713Z"
   },
   {
    "duration": 211,
    "start_time": "2023-09-02T12:48:17.910Z"
   },
   {
    "duration": 5,
    "start_time": "2023-09-02T12:57:12.010Z"
   },
   {
    "duration": 72,
    "start_time": "2023-09-02T12:57:12.017Z"
   },
   {
    "duration": 13,
    "start_time": "2023-09-02T12:57:12.091Z"
   },
   {
    "duration": 14,
    "start_time": "2023-09-02T12:57:12.107Z"
   },
   {
    "duration": 27,
    "start_time": "2023-09-02T12:57:12.123Z"
   },
   {
    "duration": 19,
    "start_time": "2023-09-02T12:57:12.152Z"
   },
   {
    "duration": 34,
    "start_time": "2023-09-02T12:57:12.173Z"
   },
   {
    "duration": 7,
    "start_time": "2023-09-02T12:57:12.209Z"
   },
   {
    "duration": 8,
    "start_time": "2023-09-02T12:57:12.218Z"
   },
   {
    "duration": 7,
    "start_time": "2023-09-02T12:57:12.229Z"
   },
   {
    "duration": 14,
    "start_time": "2023-09-02T12:57:12.238Z"
   },
   {
    "duration": 15,
    "start_time": "2023-09-02T12:57:12.254Z"
   },
   {
    "duration": 41,
    "start_time": "2023-09-02T12:57:12.270Z"
   },
   {
    "duration": 39,
    "start_time": "2023-09-02T12:57:12.313Z"
   },
   {
    "duration": 65,
    "start_time": "2023-09-02T12:57:12.354Z"
   },
   {
    "duration": 180,
    "start_time": "2023-09-02T12:57:12.422Z"
   },
   {
    "duration": 27,
    "start_time": "2023-09-02T12:57:12.604Z"
   },
   {
    "duration": 102,
    "start_time": "2023-09-02T12:57:12.704Z"
   },
   {
    "duration": 46,
    "start_time": "2023-09-02T12:57:12.808Z"
   },
   {
    "duration": 1010,
    "start_time": "2023-09-02T12:57:12.856Z"
   },
   {
    "duration": 55,
    "start_time": "2023-09-02T12:57:13.868Z"
   },
   {
    "duration": 89,
    "start_time": "2023-09-02T12:57:13.925Z"
   },
   {
    "duration": 24,
    "start_time": "2023-09-02T12:57:14.102Z"
   },
   {
    "duration": 137,
    "start_time": "2023-09-02T12:57:14.128Z"
   },
   {
    "duration": 44,
    "start_time": "2023-09-02T12:57:14.267Z"
   },
   {
    "duration": 253,
    "start_time": "2023-09-02T12:57:14.314Z"
   },
   {
    "duration": 247,
    "start_time": "2023-09-02T12:57:14.570Z"
   },
   {
    "duration": 193,
    "start_time": "2023-09-02T12:57:14.821Z"
   },
   {
    "duration": 219,
    "start_time": "2023-09-02T12:57:15.016Z"
   },
   {
    "duration": 4,
    "start_time": "2023-09-02T13:02:05.328Z"
   },
   {
    "duration": 86,
    "start_time": "2023-09-02T13:02:05.335Z"
   },
   {
    "duration": 13,
    "start_time": "2023-09-02T13:02:05.423Z"
   },
   {
    "duration": 25,
    "start_time": "2023-09-02T13:02:05.438Z"
   },
   {
    "duration": 54,
    "start_time": "2023-09-02T13:02:05.466Z"
   },
   {
    "duration": 20,
    "start_time": "2023-09-02T13:02:05.522Z"
   },
   {
    "duration": 29,
    "start_time": "2023-09-02T13:02:05.544Z"
   },
   {
    "duration": 15,
    "start_time": "2023-09-02T13:02:05.575Z"
   },
   {
    "duration": 18,
    "start_time": "2023-09-02T13:02:05.602Z"
   },
   {
    "duration": 19,
    "start_time": "2023-09-02T13:02:05.622Z"
   },
   {
    "duration": 11,
    "start_time": "2023-09-02T13:02:05.643Z"
   },
   {
    "duration": 16,
    "start_time": "2023-09-02T13:02:05.656Z"
   },
   {
    "duration": 14,
    "start_time": "2023-09-02T13:02:05.674Z"
   },
   {
    "duration": 38,
    "start_time": "2023-09-02T13:02:05.703Z"
   },
   {
    "duration": 37,
    "start_time": "2023-09-02T13:02:05.743Z"
   },
   {
    "duration": 182,
    "start_time": "2023-09-02T13:02:05.781Z"
   },
   {
    "duration": 40,
    "start_time": "2023-09-02T13:02:05.965Z"
   },
   {
    "duration": 104,
    "start_time": "2023-09-02T13:02:06.008Z"
   },
   {
    "duration": 100,
    "start_time": "2023-09-02T13:02:06.114Z"
   },
   {
    "duration": 945,
    "start_time": "2023-09-02T13:02:06.216Z"
   },
   {
    "duration": 137,
    "start_time": "2023-09-02T13:02:07.164Z"
   },
   {
    "duration": 103,
    "start_time": "2023-09-02T13:02:07.304Z"
   },
   {
    "duration": 28,
    "start_time": "2023-09-02T13:02:07.409Z"
   },
   {
    "duration": 134,
    "start_time": "2023-09-02T13:02:07.438Z"
   },
   {
    "duration": 127,
    "start_time": "2023-09-02T13:02:07.574Z"
   },
   {
    "duration": 214,
    "start_time": "2023-09-02T13:02:07.704Z"
   },
   {
    "duration": 172,
    "start_time": "2023-09-02T13:02:07.920Z"
   },
   {
    "duration": 213,
    "start_time": "2023-09-02T13:02:08.094Z"
   },
   {
    "duration": 249,
    "start_time": "2023-09-02T13:02:08.308Z"
   },
   {
    "duration": 2609,
    "start_time": "2023-09-02T13:28:57.325Z"
   },
   {
    "duration": 106,
    "start_time": "2023-09-02T13:28:59.936Z"
   },
   {
    "duration": 14,
    "start_time": "2023-09-02T13:29:00.045Z"
   },
   {
    "duration": 25,
    "start_time": "2023-09-02T13:29:00.062Z"
   },
   {
    "duration": 28,
    "start_time": "2023-09-02T13:29:00.088Z"
   },
   {
    "duration": 19,
    "start_time": "2023-09-02T13:29:00.117Z"
   },
   {
    "duration": 18,
    "start_time": "2023-09-02T13:29:00.138Z"
   },
   {
    "duration": 6,
    "start_time": "2023-09-02T13:29:00.158Z"
   },
   {
    "duration": 31,
    "start_time": "2023-09-02T13:29:00.166Z"
   },
   {
    "duration": 23,
    "start_time": "2023-09-02T13:29:00.199Z"
   },
   {
    "duration": 10,
    "start_time": "2023-09-02T13:29:00.224Z"
   },
   {
    "duration": 38,
    "start_time": "2023-09-02T13:29:00.236Z"
   },
   {
    "duration": 56,
    "start_time": "2023-09-02T13:29:00.278Z"
   },
   {
    "duration": 38,
    "start_time": "2023-09-02T13:29:00.336Z"
   },
   {
    "duration": 38,
    "start_time": "2023-09-02T13:29:00.377Z"
   },
   {
    "duration": 163,
    "start_time": "2023-09-02T13:29:00.416Z"
   },
   {
    "duration": 46,
    "start_time": "2023-09-02T13:29:00.581Z"
   },
   {
    "duration": 102,
    "start_time": "2023-09-02T13:29:00.709Z"
   },
   {
    "duration": 66,
    "start_time": "2023-09-02T13:29:00.813Z"
   },
   {
    "duration": 958,
    "start_time": "2023-09-02T13:29:00.881Z"
   },
   {
    "duration": 74,
    "start_time": "2023-09-02T13:29:01.841Z"
   },
   {
    "duration": 119,
    "start_time": "2023-09-02T13:29:01.917Z"
   },
   {
    "duration": 46,
    "start_time": "2023-09-02T13:29:02.038Z"
   },
   {
    "duration": 104,
    "start_time": "2023-09-02T13:29:02.086Z"
   },
   {
    "duration": 31,
    "start_time": "2023-09-02T13:29:02.192Z"
   },
   {
    "duration": 249,
    "start_time": "2023-09-02T13:29:02.309Z"
   },
   {
    "duration": 219,
    "start_time": "2023-09-02T13:29:02.560Z"
   },
   {
    "duration": 231,
    "start_time": "2023-09-02T13:29:02.780Z"
   },
   {
    "duration": 205,
    "start_time": "2023-09-02T13:29:03.012Z"
   }
  ],
  "kernelspec": {
   "display_name": "Python 3 (ipykernel)",
   "language": "python",
   "name": "python3"
  },
  "language_info": {
   "codemirror_mode": {
    "name": "ipython",
    "version": 3
   },
   "file_extension": ".py",
   "mimetype": "text/x-python",
   "name": "python",
   "nbconvert_exporter": "python",
   "pygments_lexer": "ipython3",
   "version": "3.9.5"
  },
  "toc": {
   "base_numbering": 1,
   "nav_menu": {},
   "number_sections": true,
   "sideBar": true,
   "skip_h1_title": true,
   "title_cell": "Содержание",
   "title_sidebar": "Contents",
   "toc_cell": false,
   "toc_position": {
    "height": "calc(100% - 180px)",
    "left": "10px",
    "top": "150px",
    "width": "165px"
   },
   "toc_section_display": true,
   "toc_window_display": false
  }
 },
 "nbformat": 4,
 "nbformat_minor": 5
}
